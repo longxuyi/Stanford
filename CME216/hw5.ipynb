{
  "nbformat": 4,
  "nbformat_minor": 0,
  "metadata": {
    "colab": {
      "provenance": [],
      "authorship_tag": "ABX9TyNwD881SgcoXiHCn7OiYftM",
      "include_colab_link": true
    },
    "kernelspec": {
      "name": "python3",
      "display_name": "Python 3"
    },
    "language_info": {
      "name": "python"
    }
  },
  "cells": [
    {
      "cell_type": "markdown",
      "metadata": {
        "id": "view-in-github",
        "colab_type": "text"
      },
      "source": [
        "<a href=\"https://colab.research.google.com/github/longxuyi/Stanford/blob/main/CME216/hw5.ipynb\" target=\"_parent\"><img src=\"https://colab.research.google.com/assets/colab-badge.svg\" alt=\"Open In Colab\"/></a>"
      ]
    },
    {
      "cell_type": "code",
      "source": [
        "import torch\n",
        "import numpy as np\n",
        "import matplotlib.pyplot as plt\n",
        "\n",
        "class DNN(torch.nn.Module):\n",
        "    def __init__(self, input_dim, output_dim, width, depth, activation):\n",
        "        super(DNN, self).__init__()\n",
        "\n",
        "        self.hidden = torch.nn.ModuleList()\n",
        "\n",
        "        #first hidden layer\n",
        "        self.hidden.append(torch.nn.Linear(input_dim, width))\n",
        "        #middle layers\n",
        "        for i in range(1,depth-2):\n",
        "          self.hidden.append(torch.nn.Linear(width, width))\n",
        "        #last hidden layer\n",
        "        self.lastlayer = torch.nn.Linear(width, output_dim)    \n",
        "\n",
        "        self.act = activation\n",
        "\n",
        "        min_, max_ = -1,1\n",
        "        for layer in self.hidden:\n",
        "          torch.nn.init.uniform_(layer.weight, min_, max_)\n",
        "        \n",
        "        torch.nn.init.uniform_(self.lastlayer.weight, min_, max_)\n",
        "    \n",
        "    def forward(self, x):\n",
        "        for layer in self.hidden:\n",
        "          x = self.act(layer(x))\n",
        "        x = self.lastlayer(x)\n",
        "        \n",
        "        return x"
      ],
      "metadata": {
        "id": "N4yvQeSqxHjw"
      },
      "execution_count": null,
      "outputs": []
    },
    {
      "cell_type": "code",
      "source": [
        "import math\n",
        "# Generating the data\n",
        "x = np.linspace(-np.pi, np.pi, 1024)\n",
        "input = [math.cos(i) for i in x]\n",
        "\n",
        "# Converting numpy arrays to PyTorch tensors\n",
        "input = torch.tensor(input, dtype=torch.float32).reshape(-1, 1)\n",
        "\n",
        "input_dim = 1\n",
        "output_dim = 1\n",
        "width = [10,15,20,25]\n",
        "depth = [10,15,20,25]\n",
        "act = torch.nn.functional.relu\n",
        "#act = torch.nn.Tanh()\n",
        "\n",
        "#generate 4 x 4 subplots\n",
        "count =1\n",
        "for i in width:\n",
        "  for j in depth:\n",
        "    \n",
        "    #construct DNN\n",
        "    model = DNN(input_dim =1, output_dim =1, width = i, depth = j, activation =act)\n",
        "    output = model(input)\n",
        "\n",
        "    #convert tesnor back to numpy\n",
        "    inp = input.detach().numpy()\n",
        "    y_pred = output.detach().numpy()\n",
        "\n",
        "    #subplot layout setup\n",
        "    plt.subplot(4, 4, count)\n",
        "\n",
        "    #fft freq and magnitude\n",
        "    outpf = np.abs(np.fft.fft(y_pred, axis=0))\n",
        "    #normalize magnitude\n",
        "    outpf = outpf/outpf[0]\n",
        "    \n",
        "    #output vs input plot\n",
        "    #plt.plot(x, y_pred)\n",
        "\n",
        "    #fft plot\n",
        "    plt.yscale(\"log\") \n",
        "    plt.plot(outpf[:len(outpf)//2])\n",
        "    plt.ylim([1e-9,4])\n",
        "         \n",
        "    plt.title(\"width = {}, depth = {}\".format(i, j))\n",
        "    plt.xlabel(\"input\")\n",
        "    plt.ylabel(\"output\")\n",
        "    plt.grid()\n",
        "\n",
        "    count +=1 \n",
        "\n",
        "plt.subplots_adjust(bottom=0.1, right=2, top=2, wspace = 1, hspace = 1)\n",
        "plt.show()\n",
        "\n",
        "\n"
      ],
      "metadata": {
        "id": "1CXGJNvSAw0u"
      },
      "execution_count": null,
      "outputs": []
    }
  ]
}